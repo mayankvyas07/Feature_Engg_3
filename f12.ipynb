{
 "cells": [
  {
   "cell_type": "code",
   "execution_count": null,
   "id": "2e596ef5",
   "metadata": {},
   "outputs": [],
   "source": [
    "Q1. Data encoding:\n",
    "Data encoding is the process of converting categorical or text-based data into a numerical representation suitable for machine learning algorithms. In data science, most machine learning algorithms require numerical inputs to perform computations. Data encoding plays a crucial role in preparing the data for training models since it enables algorithms to process and extract patterns from the data effectively.\n",
    "\n",
    "Q2. Nominal encoding:\n",
    "Nominal encoding, also known as label encoding, is a technique used to convert categorical data into integer labels. Each unique category is assigned a unique integer label. Nominal encoding is appropriate for nominal data, where the categories do not have any intrinsic order or hierarchy.\n",
    "\n",
    "Example:\n",
    "Suppose you have a dataset of car colors with categories: \"Red,\" \"Blue,\" \"Green,\" and \"Yellow.\" Using nominal encoding, you would assign the following integer labels: \"Red\" -> 0, \"Blue\" -> 1, \"Green\" -> 2, and \"Yellow\" -> 3.\n",
    "\n",
    "Q3. When is nominal encoding preferred over one-hot encoding?\n",
    "Nominal encoding is preferred over one-hot encoding when the categorical data has a large number of unique categories and the number of instances or data points is limited. One-hot encoding creates binary columns for each unique category, leading to a significant increase in the dimensionality of the data. This can result in a sparse dataset and increase the computational complexity of models.\n",
    "\n",
    "Practical example:\n",
    "Suppose you have a dataset of customer names in an online store, and each customer name is unique. Using one-hot encoding on this dataset would create a new binary column for each customer name, which can lead to an excessively large number of columns and sparse data. In such cases, nominal encoding is a more suitable option.\n",
    "\n",
    "Q4. Encoding technique for categorical data with 5 unique values:\n",
    "For a dataset with only 5 unique categorical values, nominal encoding would be a suitable choice. Since the number of categories is small, the resulting integer labels can be efficiently represented and processed by machine learning algorithms.\n",
    "\n",
    "Q5. Number of new columns created using nominal encoding:\n",
    "In nominal encoding, each unique category is assigned a unique integer label. For two categorical columns with 5 unique values each, the number of new columns created would be 2.\n",
    "\n",
    "Q6. Encoding technique for a dataset with information about animals:\n",
    "For the dataset containing information about different types of animals, where the categorical features include species, habitat, and diet, a combination of nominal encoding and one-hot encoding would be appropriate.\n",
    "\n",
    "Justification:\n",
    "\n",
    "Nominal encoding can be used for the \"species\" feature since the animal species are typically distinct categories without any inherent order.\n",
    "One-hot encoding should be used for the \"habitat\" feature since habitats are distinct categories without any intrinsic order. One-hot encoding ensures that the habitat information is adequately represented without introducing any ordinal relationship.\n",
    "The \"diet\" feature could also be encoded using one-hot encoding, as the types of diets could be diverse, and one-hot encoding would provide a clear representation.\n",
    "Q7. Encoding technique(s) for predicting customer churn:\n",
    "For the dataset with features like customer gender, age, contract type, monthly charges, and tenure, we would use the following encoding techniques:\n",
    "\n",
    "Nominal encoding for \"gender\" and \"contract type\":\n",
    "Since gender and contract type are categorical features without any inherent order, nominal encoding would be suitable. Assigning unique integer labels to each category would efficiently represent this information.\n",
    "No encoding required for numerical features:\n",
    "Numerical features like \"age,\" \"monthly charges,\" and \"tenure\" are already in a numerical format and do not require any further encoding.\n",
    "Step-by-step implementation:\n",
    "\n",
    "Apply nominal encoding to the \"gender\" feature: \"Male\" -> 0, \"Female\" -> 1.\n",
    "Apply nominal encoding to the \"contract type\" feature: \"Month-to-month\" -> 0, \"One year\" -> 1, \"Two year\" -> 2.\n",
    "Keep the numerical features (\"age,\" \"monthly charges,\" and \"tenure\") unchanged, as they are already in a suitable format for machine learning algorithms."
   ]
  }
 ],
 "metadata": {
  "kernelspec": {
   "display_name": "Python 3 (ipykernel)",
   "language": "python",
   "name": "python3"
  },
  "language_info": {
   "codemirror_mode": {
    "name": "ipython",
    "version": 3
   },
   "file_extension": ".py",
   "mimetype": "text/x-python",
   "name": "python",
   "nbconvert_exporter": "python",
   "pygments_lexer": "ipython3",
   "version": "3.9.13"
  }
 },
 "nbformat": 4,
 "nbformat_minor": 5
}
